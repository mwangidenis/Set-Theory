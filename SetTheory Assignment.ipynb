{
 "cells": [
  {
   "cell_type": "markdown",
   "id": "e86fa579",
   "metadata": {},
   "source": [
    "# Set Membership\n"
   ]
  },
  {
   "cell_type": "code",
   "execution_count": 1,
   "id": "f1f7dd55",
   "metadata": {},
   "outputs": [],
   "source": [
    "#Importing the important libraries to handle the assignment\n",
    "import math"
   ]
  },
  {
   "cell_type": "code",
   "execution_count": 2,
   "id": "6895050e",
   "metadata": {},
   "outputs": [],
   "source": [
    "#Creating the Universal set (positive integers between [1, 12])\n",
    "#by using square brackets that means both 1 and 12 are inclusive\n",
    "U = {1,2,3,4,5,6,7,8,9,10,11,12}\n",
    "\n",
    "#Creating Set A (A= even numbers between [1, 10])\n",
    "A = {2,4,6,8,10}\n",
    "\n",
    "#Creating set B (B= 3,8,11,12)\n",
    "B ={3,8,11,12}\n",
    "\n",
    "# Creating Set C (C = 2,3,6,8,9,11)\n",
    "C = {2,3,6,8,9,11}\n"
   ]
  },
  {
   "cell_type": "code",
   "execution_count": null,
   "id": "f0e00bdf",
   "metadata": {},
   "outputs": [
    {
     "name": "stdout",
     "output_type": "stream",
     "text": [
      "{8}\n"
     ]
    }
   ],
   "source": [
    "# Question one is $ A \\cap B$\n",
    "#The aim is getting the intersection of setA and setB\n",
    "\n",
    "ans1 = A.intersection(B)   #using method\n",
    "\n",
    "            #or\n",
    "ans1 = A&B                 #using operator\n",
    "\n",
    "print(ans1)"
   ]
  },
  {
   "cell_type": "code",
   "execution_count": null,
   "id": "db76e4d5",
   "metadata": {},
   "outputs": [
    {
     "name": "stdout",
     "output_type": "stream",
     "text": [
      "{2, 3, 4, 6, 8, 9, 10, 11}\n"
     ]
    }
   ],
   "source": [
    "# Question two is $ A \\cup C$\n",
    "#The aim is getting the union of setA and setC\n",
    "\n",
    "ans2 = A.union(C)        #using method\n",
    "\n",
    "            #or \n",
    "ans2 = A|C               # using operator\n",
    "\n",
    "print(ans2)\n"
   ]
  },
  {
   "cell_type": "code",
   "execution_count": 5,
   "id": "4bef0cfe",
   "metadata": {},
   "outputs": [
    {
     "name": "stdout",
     "output_type": "stream",
     "text": [
      "{1, 3, 5, 7, 9, 11, 12}\n"
     ]
    }
   ],
   "source": [
    "# Question three is getting the absolute complement of setA\n",
    "\n",
    "ans3 = U - A\n",
    "print(ans3)"
   ]
  },
  {
   "cell_type": "code",
   "execution_count": 6,
   "id": "37b89086",
   "metadata": {},
   "outputs": [
    {
     "name": "stdout",
     "output_type": "stream",
     "text": [
      "{1, 2, 4, 5, 6, 7, 9, 10}\n"
     ]
    }
   ],
   "source": [
    "# Question four is getting the the absolute complement of B\n",
    "ans4 = U - B\n",
    "print(ans4)"
   ]
  },
  {
   "cell_type": "code",
   "execution_count": 7,
   "id": "d1273306",
   "metadata": {},
   "outputs": [
    {
     "name": "stdout",
     "output_type": "stream",
     "text": [
      "{1, 2, 4, 5, 6, 7, 9, 10}\n"
     ]
    }
   ],
   "source": [
    "# Question five is getting the complement of the union of sets A and B\n",
    "ans5 = U - (A|B)\n",
    "print(ans4)"
   ]
  },
  {
   "cell_type": "code",
   "execution_count": null,
   "id": "e5f13242",
   "metadata": {},
   "outputs": [
    {
     "name": "stdout",
     "output_type": "stream",
     "text": [
      "{12}\n"
     ]
    }
   ],
   "source": [
    "# Question six is getting the intersect of setB and complement of setC\n",
    "complementC = U - C  #getting the complement of setC first\n",
    "ans6 = B & (complementC)        \n",
    "print(ans6)"
   ]
  },
  {
   "cell_type": "code",
   "execution_count": null,
   "id": "3d568237",
   "metadata": {},
   "outputs": [
    {
     "name": "stdout",
     "output_type": "stream",
     "text": [
      "{2, 10, 4, 6}\n"
     ]
    }
   ],
   "source": [
    "#Question seven is gettting A∖B (AminusB or the relative complement of BinA)\n",
    "#This means it's the set of elements that are in A but not in B.\n",
    "\n",
    "ans7 = A.difference(B)  #using method\n",
    "\n",
    "            #or\n",
    "            \n",
    "ans7 = A - B\n",
    "\n",
    "print(ans7)"
   ]
  },
  {
   "cell_type": "code",
   "execution_count": null,
   "id": "917065bd",
   "metadata": {},
   "outputs": [
    {
     "name": "stdout",
     "output_type": "stream",
     "text": [
      "{8, 9, 2, 6}\n"
     ]
    }
   ],
   "source": [
    "# Question eight is getting C\\(B\\A)\n",
    "# This means getting elements in C that are not in the relative complement of AinB\n",
    "relative1 = B - A  #getting B\\A first\n",
    "ans8 = C- relative1\n",
    "\n",
    "        # or\n",
    "\n",
    "ans8 = C- (B-A)\n",
    "print(ans8)"
   ]
  },
  {
   "cell_type": "code",
   "execution_count": 28,
   "id": "f6989953",
   "metadata": {},
   "outputs": [
    {
     "name": "stdout",
     "output_type": "stream",
     "text": [
      "{2, 6, 8, 9}\n"
     ]
    }
   ],
   "source": [
    "# Question nine is getting (CnA)U(C\\B)\n",
    "intersect = C & A  #getting the intersect of sets C and A\n",
    "relative = C - B   #getting the realtive complement of sets C and B\n",
    "ans9 = intersect|relative \n",
    "\n",
    "        #or \n",
    "\n",
    "ans9 = (C&A)|(C-B)\n",
    "print(ans9)"
   ]
  },
  {
   "cell_type": "markdown",
   "id": "cb770648",
   "metadata": {},
   "source": [
    "# Inclusion-Exclusion Principle"
   ]
  },
  {
   "cell_type": "code",
   "execution_count": 52,
   "id": "b41c682e",
   "metadata": {},
   "outputs": [
    {
     "name": "stdout",
     "output_type": "stream",
     "text": [
      "9\n",
      "The number of distinct elements in (A U B U C) is 9\n"
     ]
    }
   ],
   "source": [
    "# Use sets A, B and C to identify the number of distinct elements using the inclusion exclusion principle.\n",
    "# ( ∣ A ∪ B ∪ C ∣=∣ A ∣ + ∣ B ∣ + ∣ C ∣ − ∣ A ∩ B ∣ − ∣ A ∩ C ∣ − ∣ B ∩ C ∣ + ∣ A ∩ B ∩ C ∣ )\n",
    "\n",
    "distinct_elements = len(A)+len(B)+len(C)-len(A&B)-len(A&C)-len(B&C)+len(A&B&C)\n",
    "print(distinct_elements)\n",
    "print(f\"The number of distinct elements in (A U B U C) is {distinct_elements}\")\n",
    "\n",
    "# So there are 9 distinct elements in the combined union of sets A, B, and C."
   ]
  },
  {
   "cell_type": "code",
   "execution_count": 51,
   "id": "05676119",
   "metadata": {},
   "outputs": [
    {
     "name": "stdout",
     "output_type": "stream",
     "text": [
      "9\n"
     ]
    }
   ],
   "source": [
    "max=len(A|B|C)\n",
    "print(max)"
   ]
  },
  {
   "cell_type": "code",
   "execution_count": 50,
   "id": "98e564c6",
   "metadata": {},
   "outputs": [
    {
     "data": {
      "text/plain": [
       "True"
      ]
     },
     "execution_count": 50,
     "metadata": {},
     "output_type": "execute_result"
    }
   ],
   "source": [
    "# veryfing the above\n",
    "max==distinct_elements"
   ]
  },
  {
   "cell_type": "markdown",
   "id": "441e8a53",
   "metadata": {},
   "source": [
    "# Set Operations\n",
    "- Mary is preparing for a road trip from her hometown, Boston, to Chicago. She has quite a few pets, yet luckily, so do her friends. They try to make sure that they take care of each other's pets while someone is away on a trip. A month ago, each respective person's pet collection was given by the following three sets:"
   ]
  },
  {
   "cell_type": "markdown",
   "id": "d3ca4a09",
   "metadata": {},
   "source": [
    "## Species"
   ]
  },
  {
   "cell_type": "code",
   "execution_count": 73,
   "id": "d91c2f22",
   "metadata": {},
   "outputs": [],
   "source": [
    "# Creating the dataset\n",
    "Nina = set([\"Cat\",\"Dog\",\"Rabbit\",\"Donkey\",\"Parrot\", \"Goldfish\"])\n",
    "Mary = set([\"Dog\",\"Chinchilla\",\"Horse\", \"Chicken\"])\n",
    "Eve = set([\"Rabbit\", \"Turtle\", \"Goldfish\"])"
   ]
  },
  {
   "cell_type": "code",
   "execution_count": 74,
   "id": "25e456cb",
   "metadata": {},
   "outputs": [
    {
     "name": "stdout",
     "output_type": "stream",
     "text": [
      "Eve = set {'Rabbit', 'Goldfish'}\n"
     ]
    }
   ],
   "source": [
    "# Sadly, Eve's turtle passed away last week. Let's update her pet list accordingly.\n",
    "Eve.remove(\"Turtle\")\n",
    "print(f\"Eve = set {Eve}\")"
   ]
  },
  {
   "cell_type": "code",
   "execution_count": 78,
   "id": "41d5b923",
   "metadata": {},
   "outputs": [
    {
     "name": "stdout",
     "output_type": "stream",
     "text": [
      "Nina = set {'Cat', 'Dog', 'Donkey', 'Rabbit', 'Horse', 'Chicken', 'Chinchilla', 'Parrot', 'Goldfish'}\n"
     ]
    }
   ],
   "source": [
    "# This time around, Nina promised to take care of Mary's pets while she's away. But she also wants to make sure her pets are well taken care of. As Nina is already spending a considerable amount of time taking care of her own pets, adding a few more won't make that much of a difference.\n",
    "# Nina does want to update her list while Mary is away.\n",
    "Nina.update(Mary)\n",
    "print(f\"Nina = set {Nina}\")"
   ]
  },
  {
   "cell_type": "code",
   "execution_count": 76,
   "id": "0bda0a8d",
   "metadata": {},
   "outputs": [
    {
     "name": "stdout",
     "output_type": "stream",
     "text": [
      "Mary= set()\n"
     ]
    }
   ],
   "source": [
    "# Mary, on the other hand, wants to clear her list altogether while away:\n",
    "Mary.clear()\n",
    "print(f\"Mary= {Mary}\")"
   ]
  },
  {
   "cell_type": "code",
   "execution_count": 77,
   "id": "39a87779",
   "metadata": {},
   "outputs": [
    {
     "name": "stdout",
     "output_type": "stream",
     "text": [
      " Nina is taking care 9 species right now\n"
     ]
    }
   ],
   "source": [
    "# Look at how many species Nina is taking care of right now.\n",
    "species=len(Nina)\n",
    "print(f\" Nina is taking care {species} species right now\")"
   ]
  },
  {
   "cell_type": "code",
   "execution_count": 79,
   "id": "f29fe617",
   "metadata": {},
   "outputs": [
    {
     "name": "stdout",
     "output_type": "stream",
     "text": [
      "Nina = set{'Cat', 'Dog', 'Donkey', 'Horse', 'Chicken', 'Chinchilla', 'Parrot'}\n"
     ]
    }
   ],
   "source": [
    "# Taking care of this many pets is weighing heavily on Nina. She remembered Eve had a smaller collection of pets lately, and that's why she asks Eve to take care of the common species. This way, the extra pets are not a huge effort on Eve's behalf.\n",
    "# Let's update Nina's pet collection.\n",
    "Nina.difference_update(Eve)\n",
    "print(f\"Nina = set{Nina}\")"
   ]
  },
  {
   "cell_type": "markdown",
   "id": "6c250cb3",
   "metadata": {},
   "source": [
    "## Cars\n",
    "- Mary dropped off her pets at Nina's house and finally made her way to the highway. Awesome, her vacation has begun! She's approaching an exit. At the end of this particular highway exit, cars can either turn left (L), go straight (S) or turn right (R). It's pretty busy and there are two cars driving close to her. What you'll do now is create several sets. You won't be using Python here, it's sufficient to write the sets down on paper. A good notion of sets and subsets will help you calculate probabilities in the next lab!\n",
    "\n",
    "Note: each set of action is what all three cars are doing at any given time"
   ]
  },
  {
   "cell_type": "code",
   "execution_count": 2,
   "id": "a679291a",
   "metadata": {},
   "outputs": [
    {
     "name": "stdout",
     "output_type": "stream",
     "text": [
      "{('L', 'L', 'L'), ('R', 'R', 'R'), ('S', 'S', 'S')}\n"
     ]
    }
   ],
   "source": [
    "# a. Create a set A of all possible outcomes assuming that all three cars drive in the same direction\n",
    "SetA = {('L', 'L', 'L'), ('S', 'S', 'S'), ('R', 'R', 'R')}\n",
    "print(SetA)"
   ]
  },
  {
   "cell_type": "code",
   "execution_count": 3,
   "id": "37c7ca19",
   "metadata": {},
   "outputs": [
    {
     "name": "stdout",
     "output_type": "stream",
     "text": [
      "{('L', 'R', 'S'), ('R', 'S', 'L'), ('S', 'R', 'L'), ('L', 'S', 'R'), ('R', 'L', 'S'), ('S', 'L', 'R')}\n"
     ]
    }
   ],
   "source": [
    "# b. Create a set B of all possible outcomes assuming that all three cars drive in a different direction.\n",
    "import itertools\n",
    "\n",
    "Directions = ['L', 'S', 'R']\n",
    "setB = set(itertools.permutations(Directions, 3))\n",
    "\n",
    "print(setB)"
   ]
  },
  {
   "cell_type": "code",
   "execution_count": 4,
   "id": "77d6abb5",
   "metadata": {},
   "outputs": [
    {
     "name": "stdout",
     "output_type": "stream",
     "text": [
      "{('R', 'R', 'L'), ('R', 'R', 'S'), ('L', 'R', 'R'), ('R', 'L', 'R'), ('S', 'R', 'R'), ('R', 'S', 'R')}\n"
     ]
    }
   ],
   "source": [
    "# c. Create a set C of all possible outcomes assuming that exactly 2 cars turn right.\n",
    "directions = ['R', 'R', 'L'], ['R', 'R', 'S']\n",
    "setC = set()\n",
    "\n",
    "for combo in directions:\n",
    "    permutations = set(itertools.permutations(combo))\n",
    "    setC.update(permutations)\n",
    "\n",
    "print(setC)"
   ]
  },
  {
   "cell_type": "code",
   "execution_count": 5,
   "id": "35926ba3",
   "metadata": {},
   "outputs": [
    {
     "name": "stdout",
     "output_type": "stream",
     "text": [
      "{('R', 'R', 'S'), ('L', 'L', 'R'), ('R', 'S', 'R'), ('L', 'S', 'S'), ('R', 'L', 'R'), ('S', 'R', 'R'), ('R', 'L', 'L'), ('S', 'L', 'S'), ('R', 'R', 'L'), ('L', 'L', 'S'), ('L', 'R', 'L'), ('S', 'S', 'L'), ('R', 'S', 'S'), ('S', 'S', 'R'), ('L', 'R', 'R'), ('S', 'R', 'S'), ('S', 'L', 'L'), ('L', 'S', 'L')}\n",
      "18\n"
     ]
    }
   ],
   "source": [
    "# d. Create a set D of all possible outcomes assuming that exactly 2 cars drive in the same direction.\n",
    "directions = ['L', 'S', 'R']\n",
    "setD = set()\n",
    "\n",
    "# For each majority direction (appearing twice)\n",
    "for d in directions:\n",
    "    # For each distinct minority direction\n",
    "    for other in directions:\n",
    "        if other != d:\n",
    "            base = [d, d, other]\n",
    "            perms = set(itertools.permutations(base))\n",
    "            setD.update(perms)\n",
    "\n",
    "print(setD)\n",
    "print(len(setD))\n"
   ]
  },
  {
   "cell_type": "code",
   "execution_count": null,
   "id": "3871cee3",
   "metadata": {},
   "outputs": [
    {
     "name": "stdout",
     "output_type": "stream",
     "text": [
      "CnD is set{('R', 'R', 'S'), ('R', 'L', 'R'), ('S', 'R', 'R'), ('R', 'R', 'L'), ('L', 'R', 'R'), ('R', 'S', 'R')}\n",
      "CuD is set{('L', 'L', 'R'), ('R', 'L', 'R'), ('S', 'L', 'S'), ('L', 'L', 'S'), ('L', 'R', 'L'), ('S', 'S', 'R'), ('S', 'L', 'L'), ('R', 'S', 'R'), ('R', 'R', 'S'), ('L', 'S', 'S'), ('S', 'R', 'R'), ('R', 'L', 'L'), ('R', 'R', 'L'), ('L', 'S', 'L'), ('S', 'S', 'L'), ('L', 'R', 'R'), ('R', 'S', 'S'), ('S', 'R', 'S')}\n"
     ]
    }
   ],
   "source": [
    "# e. Write down the interpretation and give all possible outcomes for the sets denoted by:\n",
    "\n",
    "    # 1. D'\n",
    "# - Set D contains all outcomes where exactly two cars go in the same direction (e.g., 'L','L','R', 'S','S','R', etc.).\n",
    "# - So D' includes outcomes that are not in D, i.e.:\n",
    "# - All cars go in the same direction → belongs to Set A\n",
    "# - All cars go in different directions → belongs to Set \n",
    "SetA = {('L', 'L', 'L'), ('S', 'S', 'S'), ('R', 'R', 'R')}\n",
    "D_complement = setA|setB\n",
    "print(f\"D' is set{D_complement}\")\n",
    "\n",
    "    # 2. CnD\n",
    "CnD= setC&setD\n",
    "print(f\"CnD is set{CnD}\")\n",
    "\n",
    "    # 3. CuD\n",
    "CuD=setC|setD\n",
    "print(f\"CuD is set{CuD}\")\n",
    "\n"
   ]
  },
  {
   "cell_type": "markdown",
   "id": "01dfea57",
   "metadata": {},
   "source": [
    "## European Countries\n",
    "- Note that this data is from 2018, so EU membership may have changed."
   ]
  },
  {
   "cell_type": "code",
   "execution_count": 38,
   "id": "ae686979",
   "metadata": {},
   "outputs": [],
   "source": [
    "#import library\n",
    "import pandas as pd\n",
    "\n",
    "# Load Europe and EU\n",
    "europe = pd.read_excel('Europe_and_EU.xlsx', sheet_name = 'Europe') \n",
    "eu = pd.read_excel('Europe_and_EU.xlsx', sheet_name = 'EU')"
   ]
  },
  {
   "cell_type": "code",
   "execution_count": 39,
   "id": "94f531fb",
   "metadata": {},
   "outputs": [],
   "source": [
    "#code to remove any whitespace from names\n",
    "europe['Country'] = europe['Country'].str.strip()\n",
    "eu['Country'] = eu['Country'].str.strip()"
   ]
  },
  {
   "cell_type": "code",
   "execution_count": 40,
   "id": "2f69a8e0",
   "metadata": {},
   "outputs": [
    {
     "data": {
      "text/html": [
       "<div>\n",
       "<style scoped>\n",
       "    .dataframe tbody tr th:only-of-type {\n",
       "        vertical-align: middle;\n",
       "    }\n",
       "\n",
       "    .dataframe tbody tr th {\n",
       "        vertical-align: top;\n",
       "    }\n",
       "\n",
       "    .dataframe thead th {\n",
       "        text-align: right;\n",
       "    }\n",
       "</style>\n",
       "<table border=\"1\" class=\"dataframe\">\n",
       "  <thead>\n",
       "    <tr style=\"text-align: right;\">\n",
       "      <th></th>\n",
       "      <th>Rank</th>\n",
       "      <th>Country</th>\n",
       "      <th>Population</th>\n",
       "      <th>% of population</th>\n",
       "      <th>Average relative annual growth (%)</th>\n",
       "      <th>Average absolute annual growth</th>\n",
       "      <th>Estimated doubling time (Years)</th>\n",
       "      <th>Official figure (where available)</th>\n",
       "      <th>Date of last figure</th>\n",
       "      <th>Regional grouping</th>\n",
       "      <th>Source</th>\n",
       "    </tr>\n",
       "  </thead>\n",
       "  <tbody>\n",
       "    <tr>\n",
       "      <th>0</th>\n",
       "      <td>1.0</td>\n",
       "      <td>Russia</td>\n",
       "      <td>143964709</td>\n",
       "      <td>17.15</td>\n",
       "      <td>0.19</td>\n",
       "      <td>294285</td>\n",
       "      <td>368</td>\n",
       "      <td>146839993</td>\n",
       "      <td>2017-01-01 00:00:00</td>\n",
       "      <td>EAEU</td>\n",
       "      <td>[1]</td>\n",
       "    </tr>\n",
       "    <tr>\n",
       "      <th>1</th>\n",
       "      <td>2.0</td>\n",
       "      <td>Germany</td>\n",
       "      <td>82521653</td>\n",
       "      <td>9.80</td>\n",
       "      <td>1.20</td>\n",
       "      <td>600000</td>\n",
       "      <td>90</td>\n",
       "      <td>82800000</td>\n",
       "      <td>2016-12-31 00:00:00</td>\n",
       "      <td>EU</td>\n",
       "      <td>Official estimate</td>\n",
       "    </tr>\n",
       "    <tr>\n",
       "      <th>2</th>\n",
       "      <td>3.0</td>\n",
       "      <td>Turkey</td>\n",
       "      <td>80810000</td>\n",
       "      <td>9.60</td>\n",
       "      <td>1.34</td>\n",
       "      <td>1035000</td>\n",
       "      <td>52</td>\n",
       "      <td>77695904</td>\n",
       "      <td>2016-12-31 00:00:00</td>\n",
       "      <td>NaN</td>\n",
       "      <td>[2]</td>\n",
       "    </tr>\n",
       "    <tr>\n",
       "      <th>3</th>\n",
       "      <td>4.0</td>\n",
       "      <td>France</td>\n",
       "      <td>65233271</td>\n",
       "      <td>7.76</td>\n",
       "      <td>0.39</td>\n",
       "      <td>261022</td>\n",
       "      <td>177</td>\n",
       "      <td>66991000</td>\n",
       "      <td>2017-03-01 00:00:00</td>\n",
       "      <td>EU</td>\n",
       "      <td>[3]</td>\n",
       "    </tr>\n",
       "    <tr>\n",
       "      <th>4</th>\n",
       "      <td>5.0</td>\n",
       "      <td>United Kingdom</td>\n",
       "      <td>65110276</td>\n",
       "      <td>7.75</td>\n",
       "      <td>0.75</td>\n",
       "      <td>484000</td>\n",
       "      <td>92</td>\n",
       "      <td>66573504</td>\n",
       "      <td>2016-12-30 00:00:00</td>\n",
       "      <td>EU</td>\n",
       "      <td>Official estimate</td>\n",
       "    </tr>\n",
       "  </tbody>\n",
       "</table>\n",
       "</div>"
      ],
      "text/plain": [
       "   Rank         Country  Population  % of population  \\\n",
       "0   1.0          Russia   143964709            17.15   \n",
       "1   2.0         Germany    82521653             9.80   \n",
       "2   3.0          Turkey    80810000             9.60   \n",
       "3   4.0          France    65233271             7.76   \n",
       "4   5.0  United Kingdom    65110276             7.75   \n",
       "\n",
       "   Average relative annual growth (%)  Average absolute annual growth  \\\n",
       "0                                0.19                          294285   \n",
       "1                                1.20                          600000   \n",
       "2                                1.34                         1035000   \n",
       "3                                0.39                          261022   \n",
       "4                                0.75                          484000   \n",
       "\n",
       "  Estimated doubling time (Years)  Official figure (where available)  \\\n",
       "0                             368                          146839993   \n",
       "1                              90                           82800000   \n",
       "2                              52                           77695904   \n",
       "3                             177                           66991000   \n",
       "4                              92                           66573504   \n",
       "\n",
       "   Date of last figure Regional grouping             Source  \n",
       "0  2017-01-01 00:00:00             EAEU                 [1]  \n",
       "1  2016-12-31 00:00:00               EU   Official estimate  \n",
       "2  2016-12-31 00:00:00               NaN                [2]  \n",
       "3  2017-03-01 00:00:00               EU                 [3]  \n",
       "4  2016-12-30 00:00:00               EU   Official estimate  "
      ]
     },
     "execution_count": 40,
     "metadata": {},
     "output_type": "execute_result"
    }
   ],
   "source": [
    "#preview data\n",
    "europe.head(5)"
   ]
  },
  {
   "cell_type": "code",
   "execution_count": 41,
   "id": "f5d9e707",
   "metadata": {},
   "outputs": [
    {
     "data": {
      "text/html": [
       "<div>\n",
       "<style scoped>\n",
       "    .dataframe tbody tr th:only-of-type {\n",
       "        vertical-align: middle;\n",
       "    }\n",
       "\n",
       "    .dataframe tbody tr th {\n",
       "        vertical-align: top;\n",
       "    }\n",
       "\n",
       "    .dataframe thead th {\n",
       "        text-align: right;\n",
       "    }\n",
       "</style>\n",
       "<table border=\"1\" class=\"dataframe\">\n",
       "  <thead>\n",
       "    <tr style=\"text-align: right;\">\n",
       "      <th></th>\n",
       "      <th>Rank</th>\n",
       "      <th>Country</th>\n",
       "      <th>2017 population</th>\n",
       "      <th>% of pop.</th>\n",
       "      <th>Average relative annual growth</th>\n",
       "      <th>Average absolute annual growth</th>\n",
       "      <th>Official figure</th>\n",
       "      <th>Date of last figure</th>\n",
       "      <th>Source</th>\n",
       "    </tr>\n",
       "  </thead>\n",
       "  <tbody>\n",
       "    <tr>\n",
       "      <th>23</th>\n",
       "      <td>24</td>\n",
       "      <td>Latvia</td>\n",
       "      <td>1950116</td>\n",
       "      <td>0.38</td>\n",
       "      <td>-0.96</td>\n",
       "      <td>-18661</td>\n",
       "      <td>1929900</td>\n",
       "      <td>2018-01-01</td>\n",
       "      <td>Monthly official estimate</td>\n",
       "    </tr>\n",
       "    <tr>\n",
       "      <th>24</th>\n",
       "      <td>25</td>\n",
       "      <td>Estonia</td>\n",
       "      <td>1315635</td>\n",
       "      <td>0.26</td>\n",
       "      <td>-0.02</td>\n",
       "      <td>-309</td>\n",
       "      <td>1318705</td>\n",
       "      <td>2018-01-01</td>\n",
       "      <td>Official estimate</td>\n",
       "    </tr>\n",
       "    <tr>\n",
       "      <th>25</th>\n",
       "      <td>26</td>\n",
       "      <td>Cyprus</td>\n",
       "      <td>854802</td>\n",
       "      <td>0.17</td>\n",
       "      <td>0.76</td>\n",
       "      <td>6533</td>\n",
       "      <td>845800</td>\n",
       "      <td>2016-12-31</td>\n",
       "      <td>Official estimate</td>\n",
       "    </tr>\n",
       "    <tr>\n",
       "      <th>26</th>\n",
       "      <td>27</td>\n",
       "      <td>Luxembourg</td>\n",
       "      <td>590667</td>\n",
       "      <td>0.12</td>\n",
       "      <td>2.50</td>\n",
       "      <td>14779</td>\n",
       "      <td>590667</td>\n",
       "      <td>2017-01-01</td>\n",
       "      <td>Official estimate</td>\n",
       "    </tr>\n",
       "    <tr>\n",
       "      <th>27</th>\n",
       "      <td>28</td>\n",
       "      <td>Malta</td>\n",
       "      <td>440433</td>\n",
       "      <td>0.09</td>\n",
       "      <td>1.39</td>\n",
       "      <td>6114</td>\n",
       "      <td>460297</td>\n",
       "      <td>2016-12-31</td>\n",
       "      <td>Official estimate</td>\n",
       "    </tr>\n",
       "  </tbody>\n",
       "</table>\n",
       "</div>"
      ],
      "text/plain": [
       "    Rank     Country  2017 population  % of pop.  \\\n",
       "23    24      Latvia          1950116       0.38   \n",
       "24    25     Estonia          1315635       0.26   \n",
       "25    26      Cyprus           854802       0.17   \n",
       "26    27  Luxembourg           590667       0.12   \n",
       "27    28       Malta           440433       0.09   \n",
       "\n",
       "    Average relative annual growth  Average absolute annual growth  \\\n",
       "23                           -0.96                          -18661   \n",
       "24                           -0.02                            -309   \n",
       "25                            0.76                            6533   \n",
       "26                            2.50                           14779   \n",
       "27                            1.39                            6114   \n",
       "\n",
       "    Official figure Date of last figure                     Source  \n",
       "23          1929900          2018-01-01  Monthly official estimate  \n",
       "24          1318705          2018-01-01          Official estimate  \n",
       "25           845800          2016-12-31          Official estimate  \n",
       "26           590667          2017-01-01          Official estimate  \n",
       "27           460297          2016-12-31          Official estimate  "
      ]
     },
     "execution_count": 41,
     "metadata": {},
     "output_type": "execute_result"
    }
   ],
   "source": [
    "#preview data\n",
    "eu.tail()"
   ]
  },
  {
   "cell_type": "code",
   "execution_count": null,
   "id": "8db8ce54",
   "metadata": {},
   "outputs": [],
   "source": [
    "# Get sets of country names\n",
    "europe_countries = set(europe['Country'])\n",
    "eu_countries = set(eu['Country'])"
   ]
  },
  {
   "cell_type": "code",
   "execution_count": 53,
   "id": "ffa9862a",
   "metadata": {},
   "outputs": [
    {
     "name": "stdout",
     "output_type": "stream",
     "text": [
      "Are EU countries a subset of European countries?  True \n"
     ]
    }
   ],
   "source": [
    "# Check to confirm that the EU countries are a subset of countries in Europe\n",
    "eu_countries<=europe_countries\n",
    "print(f\"Are EU countries a subset of European countries?  {eu_countries<=europe_countries} \")"
   ]
  },
  {
   "cell_type": "code",
   "execution_count": 70,
   "id": "0a262605",
   "metadata": {},
   "outputs": [
    {
     "name": "stdout",
     "output_type": "stream",
     "text": [
      "The following are the Non-EU-Countries:{'Moldova', 'Armenia', 'Andorra', 'Georgia', 'Macedonia', 'Liechtenstein', 'Kosovo', 'Switzerland', 'Bosnia and Herzegovina', 'Montenegro', 'Vatican City', 'Russia', 'Isle of Man (UK)', 'San Marino', 'Azerbaijan', 'Ukraine', 'Belarus', 'Faroe Islands (Denmark)', 'Åland Islands (Finland)', 'Svalbard (Norway)', 'Gibraltar (UK)', 'Serbia', 'Jersey (UK)', 'Monaco', 'Norway', 'Iceland', 'Albania', 'Turkey', 'Guernsey (UK)'}\n"
     ]
    }
   ],
   "source": [
    "# Find the set of countries that are in Europe but not the EU\n",
    "Non_Eu_Countries = europe_countries - eu_countries\n",
    "print(f\"The following are the Non-EU-Countries:{Non_Eu_Countries}\")"
   ]
  }
 ],
 "metadata": {
  "kernelspec": {
   "display_name": "Python 3",
   "language": "python",
   "name": "python3"
  },
  "language_info": {
   "codemirror_mode": {
    "name": "ipython",
    "version": 3
   },
   "file_extension": ".py",
   "mimetype": "text/x-python",
   "name": "python",
   "nbconvert_exporter": "python",
   "pygments_lexer": "ipython3",
   "version": "3.12.10"
  }
 },
 "nbformat": 4,
 "nbformat_minor": 5
}
